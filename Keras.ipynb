{
 "cells": [
  {
   "cell_type": "markdown",
   "metadata": {},
   "source": [
    "## Install Keras"
   ]
  },
  {
   "cell_type": "markdown",
   "metadata": {},
   "source": [
    "## Loading the MNIST dataset in Keras"
   ]
  },
  {
   "cell_type": "code",
   "execution_count": 2,
   "metadata": {},
   "outputs": [],
   "source": [
    "from keras.datasets import mnist\n",
    "import tensorflow as tf"
   ]
  },
  {
   "cell_type": "code",
   "execution_count": 3,
   "metadata": {},
   "outputs": [],
   "source": [
    "(train_images, train_labels), (test_images, test_labels) = mnist.load_data()"
   ]
  },
  {
   "cell_type": "code",
   "execution_count": 4,
   "metadata": {},
   "outputs": [
    {
     "data": {
      "text/plain": [
       "(60000, 28, 28)"
      ]
     },
     "execution_count": 4,
     "metadata": {},
     "output_type": "execute_result"
    }
   ],
   "source": [
    "train_images.shape"
   ]
  },
  {
   "cell_type": "code",
   "execution_count": 5,
   "metadata": {},
   "outputs": [
    {
     "data": {
      "text/plain": [
       "(10000, 28, 28)"
      ]
     },
     "execution_count": 5,
     "metadata": {},
     "output_type": "execute_result"
    }
   ],
   "source": [
    "test_images.shape"
   ]
  },
  {
   "cell_type": "markdown",
   "metadata": {},
   "source": [
    "## Create network architecture"
   ]
  },
  {
   "cell_type": "code",
   "execution_count": 6,
   "metadata": {},
   "outputs": [],
   "source": [
    "from keras import models\n",
    "from keras import layers"
   ]
  },
  {
   "cell_type": "code",
   "execution_count": 7,
   "metadata": {},
   "outputs": [],
   "source": [
    "network = models.Sequential()"
   ]
  },
  {
   "cell_type": "markdown",
   "metadata": {},
   "source": [
    "- This is the same as calling tf.keras.Sequential() or tf.keras.models.Sequential()"
   ]
  },
  {
   "cell_type": "code",
   "execution_count": 8,
   "metadata": {},
   "outputs": [],
   "source": [
    "network = tf.keras.models.Sequential()"
   ]
  },
  {
   "cell_type": "code",
   "execution_count": 9,
   "metadata": {},
   "outputs": [],
   "source": [
    "network.add(layers.Dense(512, activation=\"relu\", input_shape=(28*28,)))\n",
    "network.add(layers.Dense(10, activation=\"softmax\"))"
   ]
  },
  {
   "cell_type": "markdown",
   "metadata": {},
   "source": [
    "## Compilation step\n",
    "\n",
    "- A loss function.  How the network will be able to measure its performance on the training data, and thus how it will be able to steer itself in the right direction.\n",
    "- An optimizer.   The mechanism through which the network will update itself based on the data it sees and its loss function.\n",
    "- Metrics to monitor during training and testing—Here, we’ll only care about accuracy (the fraction of the images that were correctly classified). "
   ]
  },
  {
   "cell_type": "code",
   "execution_count": 10,
   "metadata": {},
   "outputs": [],
   "source": [
    "network.compile(optimizer='adam', loss='categorical_crossentropy', metrics=['accuracy'])"
   ]
  },
  {
   "cell_type": "markdown",
   "metadata": {},
   "source": [
    "## Preparing the image data"
   ]
  },
  {
   "cell_type": "markdown",
   "metadata": {},
   "source": [
    "- Images are of size $28$ X $28$ pixels\n",
    "\n",
    "- Images are tensors of type $unit8$. This should be converted to type $float32$\n",
    "\n",
    "- Images should be normalized so that channels are between 0 and 1 and not \\[0, 255]"
   ]
  },
  {
   "cell_type": "code",
   "execution_count": 11,
   "metadata": {},
   "outputs": [],
   "source": [
    "train_images = train_images.reshape((60000, 28*28))\n",
    "train_images = train_images.astype(\"float32\")/255"
   ]
  },
  {
   "cell_type": "code",
   "execution_count": 12,
   "metadata": {},
   "outputs": [],
   "source": [
    "test_images = test_images.reshape((10000, 28*28))\n",
    "test_images = test_images.astype(\"float32\")/255"
   ]
  },
  {
   "cell_type": "markdown",
   "metadata": {},
   "source": [
    "## Preparing the labels"
   ]
  },
  {
   "cell_type": "code",
   "execution_count": 13,
   "metadata": {},
   "outputs": [],
   "source": [
    "from keras.utils import to_categorical "
   ]
  },
  {
   "cell_type": "code",
   "execution_count": 14,
   "metadata": {},
   "outputs": [],
   "source": [
    "train_labels = to_categorical(train_labels)\n",
    "test_labels = to_categorical(test_labels)"
   ]
  },
  {
   "cell_type": "markdown",
   "metadata": {},
   "source": [
    "## Train the network"
   ]
  },
  {
   "cell_type": "code",
   "execution_count": 15,
   "metadata": {},
   "outputs": [
    {
     "name": "stdout",
     "output_type": "stream",
     "text": [
      "Epoch 1/5\n",
      "469/469 [==============================] - 6s 11ms/step - loss: 0.4537 - accuracy: 0.8715 2s -\n",
      "Epoch 2/5\n",
      "469/469 [==============================] - 4s 8ms/step - loss: 0.1143 - accuracy: 0.9678\n",
      "Epoch 3/5\n",
      "469/469 [==============================] - 4s 8ms/step - loss: 0.0692 - accuracy: 0.9803\n",
      "Epoch 4/5\n",
      "469/469 [==============================] - 3s 7ms/step - loss: 0.0485 - accuracy: 0.9857\n",
      "Epoch 5/5\n",
      "469/469 [==============================] - 3s 7ms/step - loss: 0.0336 - accuracy: 0.9907\n"
     ]
    },
    {
     "data": {
      "text/plain": [
       "<tensorflow.python.keras.callbacks.History at 0x22a052d2588>"
      ]
     },
     "execution_count": 15,
     "metadata": {},
     "output_type": "execute_result"
    }
   ],
   "source": [
    "network.fit(train_images, train_labels, epochs=5, batch_size=128)"
   ]
  },
  {
   "cell_type": "markdown",
   "metadata": {},
   "source": [
    "## Test the network"
   ]
  },
  {
   "cell_type": "code",
   "execution_count": 16,
   "metadata": {},
   "outputs": [
    {
     "name": "stdout",
     "output_type": "stream",
     "text": [
      "313/313 [==============================] - 1s 1ms/step - loss: 0.0662 - accuracy: 0.9796\n"
     ]
    }
   ],
   "source": [
    "test_loss, test_acc = network.evaluate(test_images, test_labels)"
   ]
  },
  {
   "cell_type": "markdown",
   "metadata": {},
   "source": [
    "# EXAMPLE 2: IRIS DATASET"
   ]
  },
  {
   "cell_type": "code",
   "execution_count": 88,
   "metadata": {},
   "outputs": [],
   "source": [
    "from sklearn.datasets import load_iris\n",
    "from sklearn.preprocessing import LabelEncoder, StandardScaler \n",
    "from sklearn.model_selection import train_test_split"
   ]
  },
  {
   "cell_type": "code",
   "execution_count": 89,
   "metadata": {},
   "outputs": [],
   "source": [
    "iris = load_iris()\n",
    "X = iris[\"data\"]\n",
    "y = iris[\"target\"]"
   ]
  },
  {
   "cell_type": "code",
   "execution_count": 90,
   "metadata": {},
   "outputs": [],
   "source": [
    "X_train, X_test, y_train, y_test = train_test_split(X, y, test_size=0.3, random_state=1)"
   ]
  },
  {
   "cell_type": "code",
   "execution_count": 91,
   "metadata": {},
   "outputs": [],
   "source": [
    "network = models.Sequential()\n",
    "\n",
    "network.add(layers.Dense(16, activation=\"sigmoid\", input_shape=(4, )))\n",
    "network.add(layers.Dense(3, activation=\"softmax\"))"
   ]
  },
  {
   "cell_type": "code",
   "execution_count": 92,
   "metadata": {},
   "outputs": [],
   "source": [
    "network.compile(optimizer =\"adam\", loss= \"categorical_crossentropy\" , metrics=[\"accuracy\"])"
   ]
  },
  {
   "cell_type": "code",
   "execution_count": 93,
   "metadata": {},
   "outputs": [],
   "source": [
    "sc = StandardScaler()\n",
    "X_train = sc.fit_transform(X_train)\n",
    "X_test = sc.transform(X_test)\n",
    "\n",
    "y_train = to_categorical(y_train)\n",
    "y_test = to_categorical(y_test)"
   ]
  },
  {
   "cell_type": "code",
   "execution_count": 95,
   "metadata": {},
   "outputs": [
    {
     "data": {
      "text/plain": [
       "<tensorflow.python.keras.callbacks.History at 0x22a0823e308>"
      ]
     },
     "execution_count": 95,
     "metadata": {},
     "output_type": "execute_result"
    }
   ],
   "source": [
    "network.fit(X_train, y_train, epochs=200, batch_size=2, verbose=False)"
   ]
  },
  {
   "cell_type": "markdown",
   "metadata": {},
   "source": [
    "# IMDB DATASET"
   ]
  },
  {
   "cell_type": "code",
   "execution_count": 1,
   "metadata": {},
   "outputs": [],
   "source": [
    "from keras.datasets import imdb"
   ]
  },
  {
   "cell_type": "code",
   "execution_count": 3,
   "metadata": {},
   "outputs": [],
   "source": [
    "(train_data, train_labels), (test_data, test_labels) = imdb.load_data(num_words=10000)"
   ]
  },
  {
   "cell_type": "markdown",
   "metadata": {},
   "source": [
    "## How to decode word index?"
   ]
  },
  {
   "cell_type": "code",
   "execution_count": 6,
   "metadata": {},
   "outputs": [
    {
     "name": "stdout",
     "output_type": "stream",
     "text": [
      "Downloading data from https://storage.googleapis.com/tensorflow/tf-keras-datasets/imdb_word_index.json\n",
      "1646592/1641221 [==============================] - 0s 0us/step\n"
     ]
    }
   ],
   "source": [
    "word_index = imdb.get_word_index()\n",
    "reverse_word_index = dict([(value, key) for key, value in word_index.items()])"
   ]
  },
  {
   "cell_type": "code",
   "execution_count": 10,
   "metadata": {},
   "outputs": [],
   "source": [
    "decoded_reveiw = ' '.join([reverse_word_index.get(i - 3, \"?\") for i in train_data[0]])"
   ]
  },
  {
   "cell_type": "markdown",
   "metadata": {},
   "source": [
    "## Preparing the data"
   ]
  },
  {
   "cell_type": "markdown",
   "metadata": {},
   "source": [
    "- One-hot encode your lists to turn them into vectors of 0s and 1s. This would mean, for instance, turning the sequence [3, 5] into a 10,000-dimensional vector that would be all 0s except for indices 3 and 5, which would be 1s. Then you  could use as the first layer in your network a Dense layer, capable of handling floating-point vector data."
   ]
  },
  {
   "cell_type": "code",
   "execution_count": 11,
   "metadata": {},
   "outputs": [],
   "source": [
    "import numpy as np"
   ]
  },
  {
   "cell_type": "code",
   "execution_count": 16,
   "metadata": {},
   "outputs": [],
   "source": [
    "def vectorize_sequence(sequences, dimension=10000):\n",
    "    results = np.zeros((len(sequences), dimension))\n",
    "    for i, sequence in enumerate(sequences):\n",
    "        results[i, sequence] = 1\n",
    "    return results"
   ]
  },
  {
   "cell_type": "code",
   "execution_count": 17,
   "metadata": {},
   "outputs": [],
   "source": [
    "X_train = vectorize_sequence(train_data)\n",
    "X_test = vectorize_sequence(test_data)"
   ]
  },
  {
   "cell_type": "code",
   "execution_count": 19,
   "metadata": {},
   "outputs": [],
   "source": [
    "y_train = np.asarray(train_labels.astype(\"float32\"))\n",
    "y_test = np.asarray(test_labels.astype('float32'))"
   ]
  },
  {
   "cell_type": "markdown",
   "metadata": {},
   "source": [
    "## The model definition"
   ]
  },
  {
   "cell_type": "code",
   "execution_count": 21,
   "metadata": {},
   "outputs": [],
   "source": [
    "from keras import models, layers"
   ]
  },
  {
   "cell_type": "code",
   "execution_count": 22,
   "metadata": {},
   "outputs": [],
   "source": [
    "network = models.Sequential()"
   ]
  },
  {
   "cell_type": "code",
   "execution_count": 23,
   "metadata": {},
   "outputs": [],
   "source": [
    "network.add(layers.Dense(16, activation=\"relu\", input_shape=(10000,)))\n",
    "network.add(layers.Dense(16, activation=\"relu\"))\n",
    "network.add(layers.Dense(1, activation=\"sigmoid\"))\n",
    "            "
   ]
  },
  {
   "cell_type": "markdown",
   "metadata": {},
   "source": [
    "## Compiling the model"
   ]
  },
  {
   "cell_type": "code",
   "execution_count": 24,
   "metadata": {},
   "outputs": [],
   "source": [
    "network.compile(optimizer=\"adam\", loss=\"binary_crossentropy\", metrics=[\"accuracy\"])"
   ]
  },
  {
   "cell_type": "markdown",
   "metadata": {},
   "source": [
    "- Sometimes you may want to configure the parameters of your optimizer or pass a custom loss function or metric function\n",
    "\n",
    "- The former can be done by passing an optimizer class instance as the optimizer argument; the latter can be done by passing function objects as the loss and/or metrics arguments."
   ]
  },
  {
   "cell_type": "markdown",
   "metadata": {},
   "source": [
    "## Configuring the optimizer"
   ]
  },
  {
   "cell_type": "code",
   "execution_count": 26,
   "metadata": {},
   "outputs": [],
   "source": [
    "from keras import optimizers"
   ]
  },
  {
   "cell_type": "code",
   "execution_count": 28,
   "metadata": {},
   "outputs": [],
   "source": [
    "network.compile(optimizer=optimizers.Adam(learning_rate=0.001), loss=\"binary_crossentropy\", metrics=[\"accuracy\"])"
   ]
  },
  {
   "cell_type": "markdown",
   "metadata": {},
   "source": [
    "## Using custom losses and metrics"
   ]
  },
  {
   "cell_type": "code",
   "execution_count": 29,
   "metadata": {},
   "outputs": [],
   "source": [
    "from keras import losses, metrics"
   ]
  },
  {
   "cell_type": "code",
   "execution_count": 31,
   "metadata": {},
   "outputs": [],
   "source": [
    "network.compile(optimizer=optimizers.Adam(learning_rate=0.001), loss=losses.binary_crossentropy,\n",
    "               metrics=[metrics.binary_accuracy])"
   ]
  },
  {
   "cell_type": "markdown",
   "metadata": {},
   "source": [
    "## Setting aside a validation set"
   ]
  },
  {
   "cell_type": "code",
   "execution_count": 32,
   "metadata": {},
   "outputs": [],
   "source": [
    "X_val = X_train[:10000]\n",
    "partial_X_train = X_train[10000:]\n",
    "\n",
    "y_val = y_train[:10000]\n",
    "partial_y_train = y_train[10000:]"
   ]
  },
  {
   "cell_type": "markdown",
   "metadata": {},
   "source": [
    "## Training The model"
   ]
  },
  {
   "cell_type": "code",
   "execution_count": 34,
   "metadata": {},
   "outputs": [
    {
     "name": "stdout",
     "output_type": "stream",
     "text": [
      "Epoch 1/20\n",
      "30/30 [==============================] - 20s 377ms/step - loss: 0.6208 - binary_accuracy: 0.6944 - val_loss: 0.3899 - val_binary_accuracy: 0.8632\n",
      "Epoch 2/20\n",
      "30/30 [==============================] - 4s 128ms/step - loss: 0.3183 - binary_accuracy: 0.8960 - val_loss: 0.2960 - val_binary_accuracy: 0.8847\n",
      "Epoch 3/20\n",
      "30/30 [==============================] - 4s 123ms/step - loss: 0.2106 - binary_accuracy: 0.9310 - val_loss: 0.2771 - val_binary_accuracy: 0.8900\n",
      "Epoch 4/20\n",
      "30/30 [==============================] - 3s 117ms/step - loss: 0.1533 - binary_accuracy: 0.9527 - val_loss: 0.2849 - val_binary_accuracy: 0.8874\n",
      "Epoch 5/20\n",
      "30/30 [==============================] - 4s 123ms/step - loss: 0.1190 - binary_accuracy: 0.9672 - val_loss: 0.2990 - val_binary_accuracy: 0.8861\n",
      "Epoch 6/20\n",
      "30/30 [==============================] - 4s 124ms/step - loss: 0.0888 - binary_accuracy: 0.9789 - val_loss: 0.3180 - val_binary_accuracy: 0.8810\n",
      "Epoch 7/20\n",
      "30/30 [==============================] - 4s 141ms/step - loss: 0.0686 - binary_accuracy: 0.9864 - val_loss: 0.3423 - val_binary_accuracy: 0.8800\n",
      "Epoch 8/20\n",
      "30/30 [==============================] - 3s 116ms/step - loss: 0.0514 - binary_accuracy: 0.9913 - val_loss: 0.3701 - val_binary_accuracy: 0.8779\n",
      "Epoch 9/20\n",
      "30/30 [==============================] - 4s 124ms/step - loss: 0.0393 - binary_accuracy: 0.9946 - val_loss: 0.4015 - val_binary_accuracy: 0.8762\n",
      "Epoch 10/20\n",
      "30/30 [==============================] - 4s 147ms/step - loss: 0.0303 - binary_accuracy: 0.9966 - val_loss: 0.4435 - val_binary_accuracy: 0.8769\n",
      "Epoch 11/20\n",
      "30/30 [==============================] - 4s 142ms/step - loss: 0.0207 - binary_accuracy: 0.9983 - val_loss: 0.4812 - val_binary_accuracy: 0.8741\n",
      "Epoch 12/20\n",
      "30/30 [==============================] - 3s 119ms/step - loss: 0.0145 - binary_accuracy: 0.9994 - val_loss: 0.5177 - val_binary_accuracy: 0.8698\n",
      "Epoch 13/20\n",
      "30/30 [==============================] - 4s 127ms/step - loss: 0.0108 - binary_accuracy: 0.9996 - val_loss: 0.5479 - val_binary_accuracy: 0.8714\n",
      "Epoch 14/20\n",
      "30/30 [==============================] - 4s 143ms/step - loss: 0.0078 - binary_accuracy: 1.0000 - val_loss: 0.5782 - val_binary_accuracy: 0.8698\n",
      "Epoch 15/20\n",
      "30/30 [==============================] - 4s 144ms/step - loss: 0.0064 - binary_accuracy: 1.0000 - val_loss: 0.6051 - val_binary_accuracy: 0.8694\n",
      "Epoch 16/20\n",
      "30/30 [==============================] - 4s 127ms/step - loss: 0.0050 - binary_accuracy: 0.9998 - val_loss: 0.6301 - val_binary_accuracy: 0.8697\n",
      "Epoch 17/20\n",
      "30/30 [==============================] - 4s 129ms/step - loss: 0.0039 - binary_accuracy: 1.0000 - val_loss: 0.6523 - val_binary_accuracy: 0.8685\n",
      "Epoch 18/20\n",
      "30/30 [==============================] - 4s 146ms/step - loss: 0.0031 - binary_accuracy: 1.0000 - val_loss: 0.6725 - val_binary_accuracy: 0.8699\n",
      "Epoch 19/20\n",
      "30/30 [==============================] - 12s 405ms/step - loss: 0.0027 - binary_accuracy: 1.0000 - val_loss: 0.6919 - val_binary_accuracy: 0.8685\n",
      "Epoch 20/20\n",
      "30/30 [==============================] - 8s 272ms/step - loss: 0.0022 - binary_accuracy: 1.0000 - val_loss: 0.7094 - val_binary_accuracy: 0.8687\n"
     ]
    }
   ],
   "source": [
    "history = network.fit(partial_X_train, partial_y_train, epochs=20, batch_size=512, validation_data=(X_val, y_val))"
   ]
  },
  {
   "cell_type": "markdown",
   "metadata": {},
   "source": [
    "## Plotting the training and validation loss"
   ]
  },
  {
   "cell_type": "code",
   "execution_count": 36,
   "metadata": {},
   "outputs": [],
   "source": [
    "import matplotlib.pyplot as plt "
   ]
  },
  {
   "cell_type": "code",
   "execution_count": 37,
   "metadata": {},
   "outputs": [
    {
     "data": {
      "image/png": "[encoded data removed]",
      "text/plain": [
       "<Figure size 432x288 with 1 Axes>"
      ]
     },
     "metadata": {
      "needs_background": "light"
     },
     "output_type": "display_data"
    }
   ],
   "source": [
    "loss = history.history[\"loss\"]\n",
    "val_loss = history.history['val_loss']\n",
    "\n",
    "\n",
    "epochs = range(1, len(loss) + 1)\n",
    "\n",
    "plt.plot(epochs, loss, 'bo', label='Training Loss')\n",
    "plt.plot(epochs, val_loss, 'b', label=\"Validation Loss\")\n",
    "plt.title('Training and Validation Loss')\n",
    "plt.xlabel(\"Epochs\")\n",
    "plt.ylabel(\"Loss\")\n",
    "plt.legend()\n",
    "\n",
    "plt.show()"
   ]
  },
  {
   "cell_type": "markdown",
   "metadata": {},
   "source": [
    "## Plotting the training and validation accuracy"
   ]
  },
  {
   "cell_type": "code",
   "execution_count": 41,
   "metadata": {},
   "outputs": [
    {
     "data": {
      "image/png": "[encoded data removed]",
      "text/plain": [
       "<Figure size 432x288 with 1 Axes>"
      ]
     },
     "metadata": {
      "needs_background": "light"
     },
     "output_type": "display_data"
    }
   ],
   "source": [
    "acc = history.history['binary_accuracy']\n",
    "val_acc = history.history['val_binary_accuracy']\n",
    "\n",
    "plt.plot(epochs, acc, 'bo', label='Training acc')\n",
    "plt.plot(epochs, val_acc, 'b', label='Validation acc')\n",
    "plt.title('Training and validation accuracy')\n",
    "plt.xlabel('Epochs')\n",
    "plt.ylabel('Loss')\n",
    "plt.legend()\n",
    "\n",
    "plt.show()"
   ]
  },
  {
   "cell_type": "markdown",
   "metadata": {},
   "source": [
    "- The network begins to overfit after 2 epochs. Let’s train a new network from scratch for nine epochs and then evaluate it on the test set."
   ]
  },
  {
   "cell_type": "markdown",
   "metadata": {},
   "source": [
    "## Retraining a model from scratch"
   ]
  },
  {
   "cell_type": "code",
   "execution_count": 49,
   "metadata": {},
   "outputs": [
    {
     "name": "stdout",
     "output_type": "stream",
     "text": [
      "Epoch 1/3\n",
      "49/49 [==============================] - 5s 17ms/step - loss: 0.5641 - accuracy: 0.7447\n",
      "Epoch 2/3\n",
      "49/49 [==============================] - 1s 15ms/step - loss: 0.2869 - accuracy: 0.9040\n",
      "Epoch 3/3\n",
      "49/49 [==============================] - 1s 14ms/step - loss: 0.2099 - accuracy: 0.9268\n",
      "782/782 [==============================] - 5s 2ms/step - loss: 0.2810 - accuracy: 0.8883\n"
     ]
    }
   ],
   "source": [
    "network = models.Sequential()\n",
    "\n",
    "network.add(layers.Dense(16, activation='relu', input_shape=(10000,)))\n",
    "network.add(layers.Dense(16, activation='relu'))\n",
    "network.add(layers.Dense(1, activation='sigmoid'))\n",
    "\n",
    "network.compile(optimizer='rmsprop', loss='binary_crossentropy', metrics=['accuracy'])\n",
    "\n",
    "network.fit(X_train, y_train, epochs=3, batch_size=512)\n",
    "\n",
    "results = network.evaluate(X_test, y_test)"
   ]
  },
  {
   "cell_type": "markdown",
   "metadata": {},
   "source": [
    "## generate predictions on new data"
   ]
  },
  {
   "cell_type": "code",
   "execution_count": 50,
   "metadata": {},
   "outputs": [],
   "source": [
    "y_test_predict = network.predict(X_test)"
   ]
  },
  {
   "cell_type": "code",
   "execution_count": null,
   "metadata": {},
   "outputs": [],
   "source": []
  },
  {
   "cell_type": "code",
   "execution_count": null,
   "metadata": {},
   "outputs": [],
   "source": [
    "\n",
    "## Creat a function called rk4solve or whatever name you want\n",
    "\n",
    "## Specify y_initial and time_step\n",
    "\n",
    "## y_initial is your list of initial y_values'\n",
    "\n",
    "\n",
    "def rk4solve(y_initial, time_step, duration):\n",
    "\n",
    "    \n",
    "    dt = time-step                       # time step for integration\n",
    "\n",
    "    num_ode = len(self.init)              # number of odes\n",
    "    \n",
    "    y = np.zeros((num_ode, t_step))  # save all avriables for plotting. shape = (Number of ODEs, Number of simulation time_points )\n",
    "                                    # Example, y[1, 50] corresponds to the value of the function in postion 1 at the 50th time_point\n",
    "    for i in range(len(y_init)):\n",
    "        y[i, 0] = y_initial[i]\n",
    "\n",
    "    tt = 0                       # initialize time t = 0\n",
    "    t = np.zeros((duration, 0))  # time array for plotting \n",
    "    \n",
    "    # Runge-kutta 4\n",
    "    \n",
    "    for i in range(1, duration):\n",
    "        \n",
    "        yn = y[:, i - 1]         # variable values at previous time step\n",
    "\n",
    "        ## diff_eqns is your function containing the ode's and must return a list corresponding to y_initial\n",
    "        \n",
    "        k1 = diff_eqns(tt, yn)\n",
    "        k2 = diff_eqns(tt, yn + [k1i * (dt / 2) for k1i in k1])\n",
    "        k3 = diff_eqns(tt, yn + [k2i * (dt / 2) for k2i in k2])\n",
    "        k4 = diff_eqns(tt, yn + [k3i * dt for k3i in k3])\n",
    "        k_in = [k1[i] + [2 * k2i for k2i in k2][i] + [2 * k3i for k3i in k3][i] + k4[i] for i in range(len(k4))]\n",
    "        yn = yn + [k_ini * (dt / 6) for k_ini in k_in]\n",
    "\n",
    "\n",
    "        y[:, i] = yn      # update the new value of all variables\n",
    "        tt = i * dt       # generate time value for next simulation step\n",
    "        t[i, 0] = i * dt  # generate time array for plotting\n",
    "    return [y, t]\n",
    "\n",
    "y_intial = [                            ]\n",
    "time_step = \n",
    "duration = \n",
    "y, t = rk4solve(y_initial, time_step, duration)\n"
   ]
  }
 ],
 "metadata": {
  "kernelspec": {
   "display_name": "Python 3",
   "language": "python",
   "name": "python3"
  },
  "language_info": {
   "codemirror_mode": {
    "name": "ipython",
    "version": 3
   },
   "file_extension": ".py",
   "mimetype": "text/x-python",
   "name": "python",
   "nbconvert_exporter": "python",
   "pygments_lexer": "ipython3",
   "version": "3.7.7"
  }
 },
 "nbformat": 4,
 "nbformat_minor": 4
}
